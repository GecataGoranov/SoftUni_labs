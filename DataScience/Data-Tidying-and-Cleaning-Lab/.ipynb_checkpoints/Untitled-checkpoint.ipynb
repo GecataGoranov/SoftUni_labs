{
 "cells": [
  {
   "cell_type": "code",
   "execution_count": 1,
   "id": "3e50e9ae-2308-4abd-8dc9-e348879694f2",
   "metadata": {},
   "outputs": [
    {
     "ename": "SyntaxError",
     "evalue": "invalid syntax (241058039.py, line 1)",
     "output_type": "error",
     "traceback": [
      "\u001b[0;36m  Cell \u001b[0;32mIn[1], line 1\u001b[0;36m\u001b[0m\n\u001b[0;31m    scikit image\u001b[0m\n\u001b[0m           ^\u001b[0m\n\u001b[0;31mSyntaxError\u001b[0m\u001b[0;31m:\u001b[0m invalid syntax\n"
     ]
    }
   ],
   "source": [
    "scikit image"
   ]
  },
  {
   "cell_type": "code",
   "execution_count": 2,
   "id": "cac5816b-45a6-4b85-b5fb-a0b4f939ddeb",
   "metadata": {},
   "outputs": [
    {
     "ename": "SyntaxError",
     "evalue": "invalid syntax (1462994753.py, line 1)",
     "output_type": "error",
     "traceback": [
      "\u001b[0;36m  Cell \u001b[0;32mIn[2], line 1\u001b[0;36m\u001b[0m\n\u001b[0;31m    imread imread_collection\u001b[0m\n\u001b[0m           ^\u001b[0m\n\u001b[0;31mSyntaxError\u001b[0m\u001b[0;31m:\u001b[0m invalid syntax\n"
     ]
    }
   ],
   "source": [
    "imread imread_collection"
   ]
  },
  {
   "cell_type": "code",
   "execution_count": 3,
   "id": "8d28f2b3-b107-4e51-9d7a-a0c72ec4eaa2",
   "metadata": {},
   "outputs": [
    {
     "ename": "SyntaxError",
     "evalue": "invalid syntax (3397779873.py, line 1)",
     "output_type": "error",
     "traceback": [
      "\u001b[0;36m  Cell \u001b[0;32mIn[3], line 1\u001b[0;36m\u001b[0m\n\u001b[0;31m    imshow imshow_collection\u001b[0m\n\u001b[0m           ^\u001b[0m\n\u001b[0;31mSyntaxError\u001b[0m\u001b[0;31m:\u001b[0m invalid syntax\n"
     ]
    }
   ],
   "source": [
    "imshow imshow_collection"
   ]
  },
  {
   "cell_type": "code",
   "execution_count": null,
   "id": "1e4371dc-d01e-426e-b0f2-20f8a2e0dcad",
   "metadata": {},
   "outputs": [],
   "source": [
    "ravel reshape makes the image 1d\n"
   ]
  },
  {
   "cell_type": "code",
   "execution_count": 4,
   "id": "816257b6-02bc-4c48-9d7e-9551d12e15ba",
   "metadata": {},
   "outputs": [
    {
     "ename": "SyntaxError",
     "evalue": "invalid syntax (4186258269.py, line 1)",
     "output_type": "error",
     "traceback": [
      "\u001b[0;36m  Cell \u001b[0;32mIn[4], line 1\u001b[0;36m\u001b[0m\n\u001b[0;31m    CONVOLUTION something idk\u001b[0m\n\u001b[0m                ^\u001b[0m\n\u001b[0;31mSyntaxError\u001b[0m\u001b[0;31m:\u001b[0m invalid syntax\n"
     ]
    }
   ],
   "source": [
    "CONVOLUTION something idk"
   ]
  },
  {
   "cell_type": "code",
   "execution_count": 6,
   "id": "2003f283-fa76-4c16-9489-303fa39df992",
   "metadata": {},
   "outputs": [
    {
     "ename": "SyntaxError",
     "evalue": "invalid syntax (921338623.py, line 1)",
     "output_type": "error",
     "traceback": [
      "\u001b[0;36m  Cell \u001b[0;32mIn[6], line 1\u001b[0;36m\u001b[0m\n\u001b[0;31m    image morphology\u001b[0m\n\u001b[0m          ^\u001b[0m\n\u001b[0;31mSyntaxError\u001b[0m\u001b[0;31m:\u001b[0m invalid syntax\n"
     ]
    }
   ],
   "source": [
    "image morphology"
   ]
  },
  {
   "cell_type": "code",
   "execution_count": null,
   "id": "e617d406-e40c-4cd4-823d-1f84b88f4a34",
   "metadata": {},
   "outputs": [],
   "source": [
    "image skeletonization"
   ]
  }
 ],
 "metadata": {
  "kernelspec": {
   "display_name": "Python 3 (ipykernel)",
   "language": "python",
   "name": "python3"
  },
  "language_info": {
   "codemirror_mode": {
    "name": "ipython",
    "version": 3
   },
   "file_extension": ".py",
   "mimetype": "text/x-python",
   "name": "python",
   "nbconvert_exporter": "python",
   "pygments_lexer": "ipython3",
   "version": "3.12.4"
  }
 },
 "nbformat": 4,
 "nbformat_minor": 5
}
